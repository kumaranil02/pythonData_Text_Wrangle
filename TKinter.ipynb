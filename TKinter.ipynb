{
 "cells": [
  {
   "cell_type": "code",
   "execution_count": 5,
   "metadata": {
    "scrolled": true
   },
   "outputs": [
    {
     "data": {
      "text/plain": [
       "(3.75, 2.5, 26.75)"
      ]
     },
     "execution_count": 5,
     "metadata": {},
     "output_type": "execute_result"
    },
    {
     "data": {
      "image/png": "[encoded data removed]",
      "text/plain": [
       "<Figure size 720x720 with 1 Axes>"
      ]
     },
     "metadata": {},
     "output_type": "display_data"
    }
   ],
   "source": [
    "import math\n",
    "import matplotlib.pyplot as plt\n",
    "def plot_output(opt_w, opt_h, n_x, n_y):\n",
    "    y_start, y_end = 100, 425\n",
    "    x_start, x_end = 25, 400\n",
    "\n",
    "    img = plt.imread(r\"C:\\Users\\u300286\\Desktop\\a.png\") #Please change the location\n",
    "    fig, ax = plt.subplots(figsize=(10, 10))\n",
    "    plt.axis('off')\n",
    "    ax.imshow(img)\n",
    "\n",
    "    x_interval = (x_end - x_start)/n_x*2\n",
    "\n",
    "    h_x = range(x_start, x_end, 5)\n",
    "    for i in range(0,int(n_y)):\n",
    "        if i != 0:\n",
    "            ax.plot(h_x, [y_start + (y_end-y_start)/n_y*i]*len(h_x), '--', linewidth=5, color='firebrick')\n",
    "    plt.title(str(int(n_x*n_y)) + ' ABCD\\n'+'TYUI:'+str(opt_w)+', Yummy:'+str(opt_h))\n",
    "\n",
    "def get_get(min_w, min_h, max_w, max_h, PL, PH, min_t, max_t, cost_m, cost_a):\n",
    "    x = 1\n",
    "    if max_w < PL:\n",
    "        x = math.ceil(PL / max_w)\n",
    "    cost_rest = cost_m * PL * PH * (max_t + min_t) / 2 + cost_a * PH * x\n",
    "\n",
    "    cost_y = float(\"inf\")\n",
    "    y = None\n",
    "    if min_h == 0:\n",
    "        min_h = 1\n",
    "    for i in range(math.ceil(PH / max_h), math.floor(PH / min_h)+1):\n",
    "        tmp_cost = cost_m * PL * PH * (max_t - min_t) / 2 / i + cost_a * PL * i\n",
    "        if tmp_cost < cost_y:\n",
    "            cost_y = tmp_cost\n",
    "            y = i\n",
    "\n",
    "    opt_w, opt_h, opt_cost = PL/x, PH/y, cost_rest + cost_y\n",
    "    plot_output(opt_w, opt_h, x, y)\n",
    "    return opt_w, opt_h, opt_cost\n",
    "\n",
    "PL=30\n",
    "PH=10\n",
    "min_t=0.1\n",
    "max_t=0.3\n",
    "cost_m=0.1\n",
    "cost_a=0.1\n",
    "min_w=0.5\n",
    "min_h=0.5\n",
    "max_w=4\n",
    "max_h=3\n",
    "\n",
    "get_get(min_w, min_h, max_w, max_h, PL, PH, min_t, max_t, cost_m, cost_a)"
   ]
  },
  {
   "cell_type": "code",
   "execution_count": 6,
   "metadata": {},
   "outputs": [
    {
     "ename": "ModuleNotFoundError",
     "evalue": "No module named 'Tkinter'",
     "output_type": "error",
     "traceback": [
      "\u001b[1;31m---------------------------------------------------------------------------\u001b[0m",
      "\u001b[1;31mModuleNotFoundError\u001b[0m                       Traceback (most recent call last)",
      "\u001b[1;32m<ipython-input-6-af278a2bc0ba>\u001b[0m in \u001b[0;36m<module>\u001b[1;34m()\u001b[0m\n\u001b[1;32m----> 1\u001b[1;33m \u001b[1;32mimport\u001b[0m \u001b[0mTkinter\u001b[0m \u001b[1;32mas\u001b[0m \u001b[0mtk\u001b[0m\u001b[1;33m\u001b[0m\u001b[0m\n\u001b[0m\u001b[0;32m      2\u001b[0m \u001b[1;33m\u001b[0m\u001b[0m\n\u001b[0;32m      3\u001b[0m \u001b[1;32mdef\u001b[0m \u001b[0mcreate_window\u001b[0m\u001b[1;33m(\u001b[0m\u001b[1;33m)\u001b[0m\u001b[1;33m:\u001b[0m\u001b[1;33m\u001b[0m\u001b[0m\n\u001b[0;32m      4\u001b[0m     \u001b[0mwindow\u001b[0m \u001b[1;33m=\u001b[0m \u001b[0mtk\u001b[0m\u001b[1;33m.\u001b[0m\u001b[0mToplevel\u001b[0m\u001b[1;33m(\u001b[0m\u001b[0mroot\u001b[0m\u001b[1;33m)\u001b[0m\u001b[1;33m\u001b[0m\u001b[0m\n\u001b[0;32m      5\u001b[0m \u001b[1;33m\u001b[0m\u001b[0m\n",
      "\u001b[1;31mModuleNotFoundError\u001b[0m: No module named 'Tkinter'"
     ]
    }
   ],
   "source": [
    "import Tkinter as tk\n",
    "\n",
    "def create_window():\n",
    "    window = tk.Toplevel(root)\n",
    "\n",
    "root = tk.Tk()\n",
    "b = tk.Button(root, text=\"Create new window\", command=create_window)\n",
    "b.pack()\n",
    "\n",
    "root.mainloop()"
   ]
  },
  {
   "cell_type": "code",
   "execution_count": null,
   "metadata": {},
   "outputs": [],
   "source": []
  }
 ],
 "metadata": {
  "kernelspec": {
   "display_name": "Python 3",
   "language": "python",
   "name": "python3"
  },
  "language_info": {
   "codemirror_mode": {
    "name": "ipython",
    "version": 3
   },
   "file_extension": ".py",
   "mimetype": "text/x-python",
   "name": "python",
   "nbconvert_exporter": "python",
   "pygments_lexer": "ipython3",
   "version": "3.6.5"
  }
 },
 "nbformat": 4,
 "nbformat_minor": 2
}
