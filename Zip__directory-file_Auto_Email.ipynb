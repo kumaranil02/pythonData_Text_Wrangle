{
 "cells": [
  {
   "cell_type": "code",
   "execution_count": null,
   "metadata": {},
   "outputs": [],
   "source": [
    "#Create a directory\n",
    "from datetime import date,timedelta\n",
    "import os\n",
    "today = date.today()\n",
    "#Change to desired path\n",
    "os.chdir(r'C:\\Users\\Anil\\OneDrive\\Desktop\\AnujAdhoc\\Covid_Daily_Data')\n",
    "os.makedirs(name = str(today))\n",
    "path = os.getcwd()+ \"\\\\\" + str(today)\n",
    "os.chdir(path)\n",
    "path = os.getcwd()"
   ]
  },
  {
   "cell_type": "code",
   "execution_count": null,
   "metadata": {},
   "outputs": [],
   "source": [
    "#convert to zip file\n",
    "import os\n",
    "import shutil\n",
    "from datetime import date\n",
    "os.chdir('C:\\\\Users\\\\Anil\\\\OneDrive\\\\Desktop\\\\AnujAdhoc\\\\Covid_Daily_Data\\\\')\n",
    "path = os.getcwd()\n",
    "file_name = str(today)\n",
    "path = path + '\\\\' + file_name\n",
    "shutil.make_archive(file_name, 'zip',path)"
   ]
  },
  {
   "cell_type": "code",
   "execution_count": null,
   "metadata": {},
   "outputs": [],
   "source": [
    "#send email\n",
    "#################################################################################\n",
    "#\n",
    "# Automatic zip file email delivery\n",
    "#\n",
    "#################################################################################\n",
    "import smtplib\n",
    "from email.mime.text import MIMEText\n",
    "from email.mime.multipart import MIMEMultipart\n",
    "from email.mime.base import MIMEBase\n",
    "from email import encoders\n",
    "import os.path\n",
    "\n",
    "os.chdir(r'C:\\Users\\Anil\\OneDrive\\Desktop\\AnujAdhoc\\Covid_Daily_Data')\n",
    "path = os.getcwd()+ \"\\\\\" + str(today)\n",
    "os.chdir(path)\n",
    "path = os.getcwd()\n",
    "path = path+\".zip\"\n",
    "\n",
    "def send_email(email_recipient,\n",
    "               email_subject,\n",
    "               email_message,\n",
    "               attachment_location = ''):\n",
    "\n",
    "    email_sender = 'anilkumar.jul28@gmail.com'\n",
    "\n",
    "    msg = MIMEMultipart()\n",
    "    msg['From'] = email_sender\n",
    "    msg['To'] = email_recipient\n",
    "    msg['Subject'] = email_subject\n",
    "\n",
    "    msg.attach(MIMEText(email_message, 'plain'))\n",
    "\n",
    "    if attachment_location != '':\n",
    "        filename = os.path.basename(attachment_location)\n",
    "        attachment = open(attachment_location, \"rb\")\n",
    "        part = MIMEBase('application', 'octet-stream')\n",
    "        part.set_payload(attachment.read())\n",
    "        encoders.encode_base64(part)\n",
    "        part.add_header('Content-Disposition',\n",
    "                        \"attachment; filename= %s\" % filename)\n",
    "        msg.attach(part)\n",
    "\n",
    "    try:\n",
    "        server = smtplib.SMTP('smtp.gmail.com', 587)\n",
    "        server.ehlo()\n",
    "        server.starttls()\n",
    "        server.login('anil8860556664@gmail.com', \"XXXXXXXX\")\n",
    "        text = msg.as_string()\n",
    "        server.sendmail(email_sender, email_recipient, text)\n",
    "        print('Email Sent Successfully')\n",
    "        server.quit()\n",
    "    except:\n",
    "        print(\"SMPT server connection error\")\n",
    "    return True\n",
    "\n",
    "send_email('anil8860556664@gmail.com',\n",
    "           'Daily Covid Data',\n",
    "           'Team,Please consider the attached file for recent data', \n",
    "           path)"
   ]
  }
 ],
 "metadata": {
  "kernelspec": {
   "display_name": "Python 3",
   "language": "python",
   "name": "python3"
  },
  "language_info": {
   "codemirror_mode": {
    "name": "ipython",
    "version": 3
   },
   "file_extension": ".py",
   "mimetype": "text/x-python",
   "name": "python",
   "nbconvert_exporter": "python",
   "pygments_lexer": "ipython3",
   "version": "3.7.3"
  }
 },
 "nbformat": 4,
 "nbformat_minor": 2
}
