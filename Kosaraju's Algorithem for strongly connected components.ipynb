{
 "cells": [
  {
   "cell_type": "code",
   "execution_count": 20,
   "metadata": {},
   "outputs": [],
   "source": [
    "airports = ['BGI','CDG','DEL','DOH','DSM','EWR','EYW','HND','ICN',\n",
    "           'JFK','LGA','LHR','ORD','SAN','SFO','SIN','TLV','BUD']"
   ]
  },
  {
   "cell_type": "code",
   "execution_count": 21,
   "metadata": {},
   "outputs": [],
   "source": [
    "routes = [['DSM','ORD'],\n",
    "         ['ORD','BGI'],\n",
    "         ['BGI','LGA'],\n",
    "         ['SIN','CDG'],\n",
    "         ['CDG','SIN'],\n",
    "         ['CDG','BUD'],\n",
    "         ['DEL','DOH'],\n",
    "         ['DEL','CDG'],\n",
    "         ['TLV','DEL'],\n",
    "         ['EWR','HND'],\n",
    "         ['HND','ICN'],\n",
    "         ['HND','JFK'],\n",
    "         ['ICN','JFK'],\n",
    "         ['JFK','LGA'],\n",
    "         ['EYW','LHR'],\n",
    "         ['LHR','SFO'],\n",
    "         ['SFO','SAN'],\n",
    "         ['SFO','DSM'],\n",
    "         ['SAN','EYW'],]"
   ]
  },
  {
   "cell_type": "code",
   "execution_count": 22,
   "metadata": {},
   "outputs": [],
   "source": [
    "startingAirport = 'LGA'"
   ]
  },
  {
   "cell_type": "code",
   "execution_count": 21,
   "metadata": {},
   "outputs": [
    {
     "data": {
      "text/plain": [
       "18"
      ]
     },
     "execution_count": 21,
     "metadata": {},
     "output_type": "execute_result"
    }
   ],
   "source": [
    "len(airports)"
   ]
  },
  {
   "cell_type": "code",
   "execution_count": 23,
   "metadata": {},
   "outputs": [
    {
     "data": {
      "text/plain": [
       "19"
      ]
     },
     "execution_count": 23,
     "metadata": {},
     "output_type": "execute_result"
    }
   ],
   "source": [
    "len(routes)"
   ]
  },
  {
   "cell_type": "code",
   "execution_count": 27,
   "metadata": {},
   "outputs": [],
   "source": [
    "a = {}\n",
    "for i in range(0,len(airports)):\n",
    "    a[i] = []\n",
    "    for j in routes:\n",
    "        if airports[i] in j[0]:\n",
    "            a[i].append(airports.index(j[1]))\n",
    "        else:\n",
    "            pass"
   ]
  },
  {
   "cell_type": "code",
   "execution_count": 28,
   "metadata": {},
   "outputs": [
    {
     "data": {
      "text/plain": [
       "{0: [10],\n",
       " 1: [15, 17],\n",
       " 2: [3, 1],\n",
       " 3: [],\n",
       " 4: [12],\n",
       " 5: [7],\n",
       " 6: [11],\n",
       " 7: [8, 9],\n",
       " 8: [9],\n",
       " 9: [10],\n",
       " 10: [],\n",
       " 11: [14],\n",
       " 12: [0],\n",
       " 13: [6],\n",
       " 14: [13, 4],\n",
       " 15: [1],\n",
       " 16: [2],\n",
       " 17: []}"
      ]
     },
     "execution_count": 28,
     "metadata": {},
     "output_type": "execute_result"
    }
   ],
   "source": [
    "a"
   ]
  },
  {
   "cell_type": "code",
   "execution_count": 53,
   "metadata": {},
   "outputs": [],
   "source": [
    "import copy\n",
    "b = copy.deepcopy(a)"
   ]
  },
  {
   "cell_type": "code",
   "execution_count": 54,
   "metadata": {},
   "outputs": [],
   "source": [
    "for key in a.keys():\n",
    "    for i in a[key]:\n",
    "        b[key].extend(a[i])"
   ]
  },
  {
   "cell_type": "code",
   "execution_count": 56,
   "metadata": {},
   "outputs": [],
   "source": [
    "for key in b.keys():\n",
    "    b[key] = list(set(b[key]))"
   ]
  },
  {
   "cell_type": "code",
   "execution_count": 57,
   "metadata": {},
   "outputs": [
    {
     "data": {
      "text/plain": [
       "{'BGI': ['LGA'],\n",
       " 'CDG': ['SIN', 'BUD', 'CDG'],\n",
       " 'DEL': ['SIN', 'DOH', 'CDG', 'BUD'],\n",
       " 'DOH': [],\n",
       " 'DSM': ['ORD', 'BGI'],\n",
       " 'EWR': ['ICN', 'HND', 'JFK'],\n",
       " 'EYW': ['SFO', 'LHR'],\n",
       " 'HND': ['LGA', 'ICN', 'JFK'],\n",
       " 'ICN': ['LGA', 'JFK'],\n",
       " 'JFK': ['LGA'],\n",
       " 'LGA': [],\n",
       " 'LHR': ['SFO', 'SAN', 'DSM'],\n",
       " 'ORD': ['LGA', 'BGI'],\n",
       " 'SAN': ['EYW', 'LHR'],\n",
       " 'SFO': ['ORD', 'SAN', 'EYW', 'DSM'],\n",
       " 'SIN': ['SIN', 'CDG', 'BUD'],\n",
       " 'TLV': ['DEL', 'DOH', 'CDG'],\n",
       " 'BUD': []}"
      ]
     },
     "execution_count": 57,
     "metadata": {},
     "output_type": "execute_result"
    }
   ],
   "source": [
    "b"
   ]
  },
  {
   "cell_type": "code",
   "execution_count": 57,
   "metadata": {},
   "outputs": [],
   "source": [
    "class Graph: \n",
    "   \n",
    "    def __init__(self,vertices): \n",
    "        self.V= vertices #No. of vertices \n",
    "        self.graph = defaultdict(list) # default dictionary to store graph \n",
    "   \n",
    "    # function to add an edge to graph \n",
    "    def addEdge(self,u,v): \n",
    "        self.graph[u].append(v) \n",
    "   \n",
    "    # A function used by DFS \n",
    "    def DFSUtil(self,v,visited): \n",
    "        # Mark the current node as visited and print it \n",
    "        visited[v]= True\n",
    "        print(v)\n",
    "        #print(airports[v]) \n",
    "        #Recur for all the vertices adjacent to this vertex \n",
    "        for i in self.graph[v]: \n",
    "            if visited[i]==False: \n",
    "                self.DFSUtil(i,visited) \n",
    "  \n",
    "  \n",
    "    def fillOrder(self,v,visited, stack): \n",
    "        # Mark the current node as visited  \n",
    "        visited[v]= True\n",
    "        #Recur for all the vertices adjacent to this vertex \n",
    "        for i in self.graph[v]: \n",
    "            if visited[i]==False: \n",
    "                self.fillOrder(i, visited, stack) \n",
    "        stack = stack.append(v) \n",
    "      \n",
    "  \n",
    "    # Function that returns reverse (or transpose) of this graph \n",
    "    def getTranspose(self): \n",
    "        g = Graph(self.V) \n",
    "  \n",
    "        # Recur for all the vertices adjacent to this vertex \n",
    "        for i in self.graph: \n",
    "            for j in self.graph[i]: \n",
    "                g.addEdge(j,i) \n",
    "        return g\n",
    "    \n",
    "    def printSCCs(self): \n",
    "          \n",
    "        stack = [] \n",
    "        # Mark all the vertices as not visited (For first DFS) \n",
    "        visited =[False]*(self.V) \n",
    "        # Fill vertices in stack according to their finishing \n",
    "        # times \n",
    "        for i in range(self.V): \n",
    "            if visited[i]==False: \n",
    "                self.fillOrder(i, visited, stack) \n",
    "  \n",
    "        # Create a reversed graph \n",
    "        gr = self.getTranspose() \n",
    "           \n",
    "         # Mark all the vertices as not visited (For second DFS) \n",
    "        visited =[False]*(self.V) \n",
    "  \n",
    "         # Now process all vertices in order defined by Stack \n",
    "        while stack: \n",
    "            i = stack.pop() \n",
    "            if visited[i]==False: \n",
    "                gr.DFSUtil(i, visited) \n",
    "                print(\"*****\")"
   ]
  },
  {
   "cell_type": "code",
   "execution_count": 30,
   "metadata": {},
   "outputs": [
    {
     "data": {
      "text/plain": [
       "{0: [10],\n",
       " 1: [15, 17],\n",
       " 2: [3, 1],\n",
       " 3: [],\n",
       " 4: [12],\n",
       " 5: [7],\n",
       " 6: [11],\n",
       " 7: [8, 9],\n",
       " 8: [9],\n",
       " 9: [10],\n",
       " 10: [],\n",
       " 11: [14],\n",
       " 12: [0],\n",
       " 13: [6],\n",
       " 14: [13, 4],\n",
       " 15: [1],\n",
       " 16: [2],\n",
       " 17: []}"
      ]
     },
     "execution_count": 30,
     "metadata": {},
     "output_type": "execute_result"
    }
   ],
   "source": [
    "a"
   ]
  },
  {
   "cell_type": "code",
   "execution_count": 59,
   "metadata": {},
   "outputs": [
    {
     "name": "stdout",
     "output_type": "stream",
     "text": [
      "Following are strongly connected components in given graph\n",
      "0\n",
      "12\n",
      "4\n",
      "14\n",
      "11\n",
      "5\n",
      "9\n",
      "7\n",
      "8\n",
      "6\n",
      "13\n",
      "10\n",
      "3\n",
      "2\n",
      "16\n",
      "17\n",
      "1\n",
      "15\n",
      "*****\n"
     ]
    }
   ],
   "source": [
    "g = Graph(18) \n",
    "g.addEdge(0, 10) \n",
    "g.addEdge(1, 15)\n",
    "g.addEdge(1, 17) \n",
    "g.addEdge(2, 1)\n",
    "g.addEdge(2, 3) \n",
    "g.addEdge(4, 12) \n",
    "g.addEdge(5, 7)\n",
    "g.addEdge(6, 11)\n",
    "g.addEdge(7, 8)\n",
    "g.addEdge(7, 9)\n",
    "g.addEdge(8, 9)\n",
    "g.addEdge(9, 10)\n",
    "g.addEdge(11, 14)\n",
    "g.addEdge(12, 0)\n",
    "g.addEdge(13, 6)\n",
    "g.addEdge(14, 13)\n",
    "g.addEdge(14, 4)\n",
    "g.addEdge(15, 1)\n",
    "g.addEdge(16, 2)\n",
    "\n",
    "##### New Additions ############\n",
    "g.addEdge(9, 5)\n",
    "g.addEdge(5, 11)\n",
    "g.addEdge(12, 7)\n",
    "g.addEdge(10, 13)\n",
    "g.addEdge(3, 4)\n",
    "g.addEdge(17, 16)\n",
    "g.addEdge(14, 15)\n",
    "\n",
    "\n",
    "print(\"Following are strongly connected components \" + \"in given graph\") \n",
    "g.printSCCs() "
   ]
  }
 ],
 "metadata": {
  "kernelspec": {
   "display_name": "Python 3",
   "language": "python",
   "name": "python3"
  },
  "language_info": {
   "codemirror_mode": {
    "name": "ipython",
    "version": 3
   },
   "file_extension": ".py",
   "mimetype": "text/x-python",
   "name": "python",
   "nbconvert_exporter": "python",
   "pygments_lexer": "ipython3",
   "version": "3.7.3"
  }
 },
 "nbformat": 4,
 "nbformat_minor": 2
}
