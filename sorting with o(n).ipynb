{
 "cells": [
  {
   "cell_type": "raw",
   "metadata": {},
   "source": [
    "Sort a vector of 0s, 1s, and 2s\n",
    "Description\n",
    "Write a code to sort a listof 0s, 1s, and 2s. Note that the time complexity should be O(n). \n",
    "Note: Do not use the built-in sorted() function.\n",
    "\n",
    "Example:\n",
    "Input 1:\n",
    "[0, 2, 0, 0, 1, 1, 2, 0, 1]\n",
    "Output 1:\n",
    "[0, 0, 0, 0, 1, 1, 1, 2, 2]"
   ]
  },
  {
   "cell_type": "code",
   "execution_count": 1,
   "metadata": {},
   "outputs": [
    {
     "name": "stdout",
     "output_type": "stream",
     "text": [
      "[0, 0, 0, 0, 1, 1, 1, 2, 2]\n"
     ]
    }
   ],
   "source": [
    "# Read the input\n",
    "import ast,sys\n",
    "#input_str = sys.stdin.read()\n",
    "#list1 = ast.literal_eval(input_str)\n",
    "#[0, 2, 0, 0, 1, 1, 2, 0, 1]\n",
    "#[0, 0, 0, 1, 1, 2, 0, 1, 2]\n",
    "# Write your code here\n",
    "\n",
    "list1 = [0, 2, 0, 0, 1, 1, 2, 0, 1]\n",
    "\n",
    "i = 0\n",
    "j = len(list1) - 1\n",
    "\n",
    "while i <= len(list1) - 1:\n",
    "    if (list1[i] <= list1[j]) and j > i:\n",
    "        j -= 1\n",
    "    elif j == i:\n",
    "        i += 1\n",
    "        j = len(list1) - 1\n",
    "    else:\n",
    "        temp = list1[i]\n",
    "        list1[i] = list1[j]\n",
    "        list1[j] = temp\n",
    "        j = len(list1) - 1\n",
    "\n",
    "print(list1)"
   ]
  }
 ],
 "metadata": {
  "kernelspec": {
   "display_name": "Python 3",
   "language": "python",
   "name": "python3"
  },
  "language_info": {
   "codemirror_mode": {
    "name": "ipython",
    "version": 3
   },
   "file_extension": ".py",
   "mimetype": "text/x-python",
   "name": "python",
   "nbconvert_exporter": "python",
   "pygments_lexer": "ipython3",
   "version": "3.7.3"
  }
 },
 "nbformat": 4,
 "nbformat_minor": 2
}
