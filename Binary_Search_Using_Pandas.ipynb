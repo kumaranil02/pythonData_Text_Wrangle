{
 "cells": [
  {
   "cell_type": "code",
   "execution_count": 14,
   "metadata": {},
   "outputs": [
    {
     "name": "stdout",
     "output_type": "stream",
     "text": [
      "Please enter a country to search for: Argentina\n",
      "True\n",
      "It took  2 cycle(s) to search for the value\n"
     ]
    }
   ],
   "source": [
    "countries = [\"Argentina\", \"Bolivia\", \"Brazil\", \"Chile\", \"Columbia\", \"Ecuador\",\n",
    "             \"French Guiana\", \"Guyana\", \"Paraguay\", \"Peru\", \"Suriname\", \"Uraguay\",\n",
    "             \"Venezuela\"]\n",
    "\n",
    "countries = sorted(countries)\n",
    "countries = [x.lower() for x in countries]\n",
    "\n",
    "def linearsearch(countries):\n",
    "    desired = (input(\"Please enter a country to search for: \"))\n",
    "    desired = desired.lower()\n",
    "    lb = 0\n",
    "    if desired not in countries:\n",
    "        return(False,\"X $data not found$\")\n",
    "    ub = len(countries)-1\n",
    "    a = False\n",
    "    i = 0\n",
    "    while (1):\n",
    "        mp = (lb + ub) // 2\n",
    "        country = countries[mp]\n",
    "        if country > desired:\n",
    "            ub = mp - 1\n",
    "        elif country < desired:\n",
    "            lb = mp + 1\n",
    "        elif country == desired:\n",
    "            return(True,i)\n",
    "        i += 1\n",
    "    \n",
    "\n",
    "a,b = linearsearch(countries)  \n",
    "print (a)\n",
    "print (\"It took \",b, \"cycle(s) to search for the value\")"
   ]
  },
  {
   "cell_type": "code",
   "execution_count": 30,
   "metadata": {},
   "outputs": [
    {
     "name": "stdout",
     "output_type": "stream",
     "text": [
      "6 french guiana\n"
     ]
    },
    {
     "data": {
      "text/plain": [
       "False"
      ]
     },
     "execution_count": 30,
     "metadata": {},
     "output_type": "execute_result"
    }
   ],
   "source": [
    "lb = 0\n",
    "ub = len(countries)-1\n",
    "a = False\n",
    "i = 0\n",
    "mp = (lb + ub) // 2\n",
    "country = countries[mp]\n",
    "\n",
    "print(mp,country)\n",
    "desired = \"French Guiana\"\n",
    "country = \"Argentina\"\n",
    "country > desired"
   ]
  },
  {
   "cell_type": "code",
   "execution_count": 9,
   "metadata": {},
   "outputs": [
    {
     "data": {
      "text/plain": [
       "['argentina',\n",
       " 'bolivia',\n",
       " 'brazil',\n",
       " 'chile',\n",
       " 'columbia',\n",
       " 'ecuador',\n",
       " 'french guiana',\n",
       " 'guyana',\n",
       " 'paraguay',\n",
       " 'peru',\n",
       " 'suriname',\n",
       " 'uraguay',\n",
       " 'venezuela']"
      ]
     },
     "execution_count": 9,
     "metadata": {},
     "output_type": "execute_result"
    }
   ],
   "source": [
    "countries = [\"Argentina\", \"Bolivia\", \"Brazil\", \"Chile\", \"Columbia\", \"Ecuador\",\n",
    "             \"French Guiana\", \"Guyana\", \"Paraguay\", \"Peru\", \"Suriname\", \"Uraguay\",\n",
    "             \"Venezuela\"]\n",
    "\n",
    "countries = sorted(countries)\n",
    "countries = [x.lower() for x in countries]\n",
    "\n",
    "countries"
   ]
  },
  {
   "cell_type": "code",
   "execution_count": 15,
   "metadata": {},
   "outputs": [
    {
     "name": "stdout",
     "output_type": "stream",
     "text": [
      "Please enter a country to search for: cfa\n",
      "False X $data not found$\n"
     ]
    }
   ],
   "source": [
    "desired = (input(\"Please enter a country to search for: \"))\n",
    "desired = desired.lower()\n",
    "\n",
    "if desired not in countries:\n",
    "    print(False,\"X $data not found$\")"
   ]
  },
  {
   "cell_type": "code",
   "execution_count": 17,
   "metadata": {},
   "outputs": [
    {
     "name": "stdout",
     "output_type": "stream",
     "text": [
      "Please enter a country to search for: Argentina\n",
      "6\n",
      "It took  3 cycle(s) to search for the value\n"
     ]
    }
   ],
   "source": [
    "countries = [\"Argentina\", \"Bolivia\", \"Brazil\", \"Chile\", \"Columbia\", \"Ecuador\",\n",
    "             \"French Guiana\", \"Guyana\", \"Paraguay\", \"Peru\", \"Suriname\", \"Uraguay\",\n",
    "             \"Venezuela\"]\n",
    "\n",
    "\n",
    "def linearsearch(countries):\n",
    "    desired = (input(\"Please enter a country to search for: \")).title()\n",
    "    found = False\n",
    "    lb = 0\n",
    "    ub = len(countries)-1\n",
    "    mp = (lb + ub) // 2\n",
    "    print(mp)\n",
    "    i = 0\n",
    "    while found == False and ub >= 0 and ub >= lb:\n",
    "\n",
    "        country = countries[mp]\n",
    "\n",
    "        if country == desired:\n",
    "            found = True\n",
    "\n",
    "        elif desired > country:\n",
    "            lb = mp + 1\n",
    "            mp = (lb + ub) // 2\n",
    "\n",
    "        else:\n",
    "            ub = mp - 1\n",
    "            mp = (lb + ub) // 2\n",
    "\n",
    "        i += 1\n",
    "\n",
    "    print (\"It took \",i, \"cycle(s) to search for the value\")\n",
    "\n",
    "linearsearch(countries)  "
   ]
  }
 ],
 "metadata": {
  "kernelspec": {
   "display_name": "Python 3",
   "language": "python",
   "name": "python3"
  },
  "language_info": {
   "codemirror_mode": {
    "name": "ipython",
    "version": 3
   },
   "file_extension": ".py",
   "mimetype": "text/x-python",
   "name": "python",
   "nbconvert_exporter": "python",
   "pygments_lexer": "ipython3",
   "version": "3.6.5"
  }
 },
 "nbformat": 4,
 "nbformat_minor": 2
}
