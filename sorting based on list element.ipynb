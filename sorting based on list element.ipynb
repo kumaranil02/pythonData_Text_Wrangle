{
 "cells": [
  {
   "cell_type": "code",
   "execution_count": 33,
   "metadata": {},
   "outputs": [
    {
     "data": {
      "text/plain": [
       "[[630, 20, [1, 4, 5]], [620, 59, [1, 6, 8]], [540, 17, [1, 2, 3]]]"
      ]
     },
     "execution_count": 33,
     "metadata": {},
     "output_type": "execute_result"
    }
   ],
   "source": [
    "A = 1\n",
    "E = 2\n",
    "G = 3\n",
    "H = 4\n",
    "K = 5\n",
    "C = 6\n",
    "F = 8\n",
    "test = [[540,17,[A,E,G]],[630,20,[A,H,K]],[620,59,[A,C,F]]]\n",
    "result = sorted(test, key = lambda x: x[0],reverse = True)\n",
    "result"
   ]
  },
  {
   "cell_type": "code",
   "execution_count": 32,
   "metadata": {},
   "outputs": [
    {
     "data": {
      "text/plain": [
       "[[630, 20, [1, 4, 5]], [620, 59, [1, 6, 8]], [540, 17, [1, 2, 3]]]"
      ]
     },
     "execution_count": 32,
     "metadata": {},
     "output_type": "execute_result"
    }
   ],
   "source": []
  },
  {
   "cell_type": "code",
   "execution_count": null,
   "metadata": {},
   "outputs": [],
   "source": []
  }
 ],
 "metadata": {
  "kernelspec": {
   "display_name": "Python 3",
   "language": "python",
   "name": "python3"
  },
  "language_info": {
   "codemirror_mode": {
    "name": "ipython",
    "version": 3
   },
   "file_extension": ".py",
   "mimetype": "text/x-python",
   "name": "python",
   "nbconvert_exporter": "python",
   "pygments_lexer": "ipython3",
   "version": "3.6.5"
  }
 },
 "nbformat": 4,
 "nbformat_minor": 2
}
