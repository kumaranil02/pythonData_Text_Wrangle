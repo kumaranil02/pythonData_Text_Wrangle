{
 "cells": [
  {
   "cell_type": "raw",
   "metadata": {},
   "source": [
    "Find the non-repeating integer\n",
    "Description\n",
    "Given an array, all the numbers appear twice — except one. Find the non-repeating number. (Hint: Use Bitwise Operators)\n",
    "\n",
    "Example:\n",
    "Input 1:\n",
    "[2, 2, 7, 7, 1, 1, 3, 9, 9]\n",
    "Output 1:\n",
    "3"
   ]
  },
  {
   "cell_type": "code",
   "execution_count": 3,
   "metadata": {},
   "outputs": [
    {
     "name": "stdout",
     "output_type": "stream",
     "text": [
      "3\n"
     ]
    }
   ],
   "source": [
    "import ast,sys\n",
    "input_str = \"[2, 2, 7, 7, 1, 1, 3, 9, 9]\"\n",
    "list1 = ast.literal_eval(input_str)\n",
    "list2 = set(list1)\n",
    "for i in list2:\n",
    "    if list1.count(i) == 1:\n",
    "        print(i)"
   ]
  }
 ],
 "metadata": {
  "kernelspec": {
   "display_name": "Python 3",
   "language": "python",
   "name": "python3"
  },
  "language_info": {
   "codemirror_mode": {
    "name": "ipython",
    "version": 3
   },
   "file_extension": ".py",
   "mimetype": "text/x-python",
   "name": "python",
   "nbconvert_exporter": "python",
   "pygments_lexer": "ipython3",
   "version": "3.7.3"
  }
 },
 "nbformat": 4,
 "nbformat_minor": 2
}
