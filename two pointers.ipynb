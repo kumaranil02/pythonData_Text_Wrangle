{
 "cells": [
  {
   "cell_type": "raw",
   "metadata": {},
   "source": [
    "Merge Two Sorted Lists\n",
    "Description\n",
    "Write a program that takes in two sorted vectors as input, and gives an output of a sorted vector — that is their union.\n",
    "Note: Use the two-pointer method only.\n",
    "\n",
    "Input 1:\n",
    "[1, 3, 5, 7]\n",
    "[2, 4, 6, 8]\n",
    "Output 1:\n",
    "[1, 2, 3, 4, 5, 6, 7, 8]\n",
    "\n",
    "Input 2:\n",
    "[5, 9, 10]\n",
    "[1, 3, 4, 7, 11]\n",
    "Output 2:\n",
    "[1, 3, 4, 5, 7, 9, 10, 11]"
   ]
  },
  {
   "cell_type": "code",
   "execution_count": 2,
   "metadata": {},
   "outputs": [
    {
     "name": "stdout",
     "output_type": "stream",
     "text": [
      "[1, 2, 3, 4, 5, 6, 7, 8]\n"
     ]
    }
   ],
   "source": [
    "# Read the input\n",
    "import ast,sys\n",
    "#input_str = sys.stdin.read()\n",
    "#input_lists = ast.literal_eval(input_str)\n",
    "\n",
    "#list1 = input_lists[0]\n",
    "#list2 = input_lists[1]\n",
    "\n",
    "list1 = [1, 3, 5, 7]\n",
    "list2 = [2, 4, 6, 8]\n",
    "\n",
    "\n",
    "#[5, 9, 10]\n",
    "#[1, 3, 4, 7, 11]\n",
    "#[1, 3, 5, 7]\n",
    "#[2, 4, 6, 8]\n",
    "# Write your code here\n",
    "#print(sorted(list1+list2))\n",
    "i = 0\n",
    "j = len(list2) - 1\n",
    "\n",
    "while i <= len(list1) - 1:\n",
    "    if list1[i] <= list2[j] and j != -1:\n",
    "        j -= 1\n",
    "    else:\n",
    "        list2.insert(j+1,list1[i])\n",
    "        i += 1\n",
    "        j = len(list2) - 1\n",
    "\n",
    "print(list2)"
   ]
  }
 ],
 "metadata": {
  "kernelspec": {
   "display_name": "Python 3",
   "language": "python",
   "name": "python3"
  },
  "language_info": {
   "codemirror_mode": {
    "name": "ipython",
    "version": 3
   },
   "file_extension": ".py",
   "mimetype": "text/x-python",
   "name": "python",
   "nbconvert_exporter": "python",
   "pygments_lexer": "ipython3",
   "version": "3.7.3"
  }
 },
 "nbformat": 4,
 "nbformat_minor": 2
}
